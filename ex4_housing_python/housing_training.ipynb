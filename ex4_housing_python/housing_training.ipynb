{
  "cells": [
    {
      "cell_type": "markdown",
      "metadata": {},
      "source": [
        "<strong>Dependencies installation</strong>"
      ]
    },
    {
      "cell_type": "code",
      "execution_count": 1,
      "metadata": {},
      "outputs": [
        {
          "name": "stdout",
          "output_type": "stream",
          "text": [
            "Requirement already satisfied: pandas in /anaconda/envs/azureml_py38_PT_TF/lib/python3.9/site-packages (2.2.2)\n",
            "Requirement already satisfied: numpy>=1.22.4 in /anaconda/envs/azureml_py38_PT_TF/lib/python3.9/site-packages (from pandas) (1.23.5)\n",
            "Requirement already satisfied: python-dateutil>=2.8.2 in /anaconda/envs/azureml_py38_PT_TF/lib/python3.9/site-packages (from pandas) (2.9.0)\n",
            "Requirement already satisfied: pytz>=2020.1 in /anaconda/envs/azureml_py38_PT_TF/lib/python3.9/site-packages (from pandas) (2024.1)\n",
            "Requirement already satisfied: tzdata>=2022.7 in /anaconda/envs/azureml_py38_PT_TF/lib/python3.9/site-packages (from pandas) (2024.1)\n",
            "Requirement already satisfied: six>=1.5 in /anaconda/envs/azureml_py38_PT_TF/lib/python3.9/site-packages (from python-dateutil>=2.8.2->pandas) (1.16.0)\n",
            "Note: you may need to restart the kernel to use updated packages.\n",
            "Requirement already satisfied: numpy in /anaconda/envs/azureml_py38_PT_TF/lib/python3.9/site-packages (1.23.5)\n",
            "Note: you may need to restart the kernel to use updated packages.\n",
            "Requirement already satisfied: tensorflow in /anaconda/envs/azureml_py38_PT_TF/lib/python3.9/site-packages (2.15.0)\n",
            "Requirement already satisfied: absl-py>=1.0.0 in /anaconda/envs/azureml_py38_PT_TF/lib/python3.9/site-packages (from tensorflow) (2.1.0)\n",
            "Requirement already satisfied: astunparse>=1.6.0 in /anaconda/envs/azureml_py38_PT_TF/lib/python3.9/site-packages (from tensorflow) (1.6.3)\n",
            "Requirement already satisfied: flatbuffers>=23.5.26 in /anaconda/envs/azureml_py38_PT_TF/lib/python3.9/site-packages (from tensorflow) (24.3.25)\n",
            "Requirement already satisfied: gast!=0.5.0,!=0.5.1,!=0.5.2,>=0.2.1 in /anaconda/envs/azureml_py38_PT_TF/lib/python3.9/site-packages (from tensorflow) (0.5.4)\n",
            "Requirement already satisfied: google-pasta>=0.1.1 in /anaconda/envs/azureml_py38_PT_TF/lib/python3.9/site-packages (from tensorflow) (0.2.0)\n",
            "Requirement already satisfied: h5py>=2.9.0 in /anaconda/envs/azureml_py38_PT_TF/lib/python3.9/site-packages (from tensorflow) (3.11.0)\n",
            "Requirement already satisfied: libclang>=13.0.0 in /anaconda/envs/azureml_py38_PT_TF/lib/python3.9/site-packages (from tensorflow) (18.1.1)\n",
            "Requirement already satisfied: ml-dtypes~=0.2.0 in /anaconda/envs/azureml_py38_PT_TF/lib/python3.9/site-packages (from tensorflow) (0.2.0)\n",
            "Requirement already satisfied: numpy<2.0.0,>=1.23.5 in /anaconda/envs/azureml_py38_PT_TF/lib/python3.9/site-packages (from tensorflow) (1.23.5)\n",
            "Requirement already satisfied: opt-einsum>=2.3.2 in /anaconda/envs/azureml_py38_PT_TF/lib/python3.9/site-packages (from tensorflow) (3.3.0)\n",
            "Requirement already satisfied: packaging in /anaconda/envs/azureml_py38_PT_TF/lib/python3.9/site-packages (from tensorflow) (24.0)\n",
            "Requirement already satisfied: protobuf!=4.21.0,!=4.21.1,!=4.21.2,!=4.21.3,!=4.21.4,!=4.21.5,<5.0.0dev,>=3.20.3 in /anaconda/envs/azureml_py38_PT_TF/lib/python3.9/site-packages (from tensorflow) (3.20.3)\n",
            "Requirement already satisfied: setuptools in /anaconda/envs/azureml_py38_PT_TF/lib/python3.9/site-packages (from tensorflow) (68.0.0)\n",
            "Requirement already satisfied: six>=1.12.0 in /anaconda/envs/azureml_py38_PT_TF/lib/python3.9/site-packages (from tensorflow) (1.16.0)\n",
            "Requirement already satisfied: termcolor>=1.1.0 in /anaconda/envs/azureml_py38_PT_TF/lib/python3.9/site-packages (from tensorflow) (2.4.0)\n",
            "Requirement already satisfied: typing-extensions>=3.6.6 in /anaconda/envs/azureml_py38_PT_TF/lib/python3.9/site-packages (from tensorflow) (4.12.2)\n",
            "Requirement already satisfied: wrapt<1.15,>=1.11.0 in /anaconda/envs/azureml_py38_PT_TF/lib/python3.9/site-packages (from tensorflow) (1.14.1)\n",
            "Requirement already satisfied: tensorflow-io-gcs-filesystem>=0.23.1 in /anaconda/envs/azureml_py38_PT_TF/lib/python3.9/site-packages (from tensorflow) (0.37.0)\n",
            "Requirement already satisfied: grpcio<2.0,>=1.24.3 in /anaconda/envs/azureml_py38_PT_TF/lib/python3.9/site-packages (from tensorflow) (1.64.1)\n",
            "Requirement already satisfied: tensorboard<2.16,>=2.15 in /anaconda/envs/azureml_py38_PT_TF/lib/python3.9/site-packages (from tensorflow) (2.15.2)\n",
            "Requirement already satisfied: tensorflow-estimator<2.16,>=2.15.0 in /anaconda/envs/azureml_py38_PT_TF/lib/python3.9/site-packages (from tensorflow) (2.15.0)\n",
            "Requirement already satisfied: keras<2.16,>=2.15.0 in /anaconda/envs/azureml_py38_PT_TF/lib/python3.9/site-packages (from tensorflow) (2.15.0)\n",
            "Requirement already satisfied: wheel<1.0,>=0.23.0 in /anaconda/envs/azureml_py38_PT_TF/lib/python3.9/site-packages (from astunparse>=1.6.0->tensorflow) (0.41.2)\n",
            "Requirement already satisfied: google-auth<3,>=1.6.3 in /anaconda/envs/azureml_py38_PT_TF/lib/python3.9/site-packages (from tensorboard<2.16,>=2.15->tensorflow) (2.30.0)\n",
            "Requirement already satisfied: google-auth-oauthlib<2,>=0.5 in /anaconda/envs/azureml_py38_PT_TF/lib/python3.9/site-packages (from tensorboard<2.16,>=2.15->tensorflow) (1.2.0)\n",
            "Requirement already satisfied: markdown>=2.6.8 in /anaconda/envs/azureml_py38_PT_TF/lib/python3.9/site-packages (from tensorboard<2.16,>=2.15->tensorflow) (3.6)\n",
            "Requirement already satisfied: requests<3,>=2.21.0 in /anaconda/envs/azureml_py38_PT_TF/lib/python3.9/site-packages (from tensorboard<2.16,>=2.15->tensorflow) (2.32.3)\n",
            "Requirement already satisfied: tensorboard-data-server<0.8.0,>=0.7.0 in /anaconda/envs/azureml_py38_PT_TF/lib/python3.9/site-packages (from tensorboard<2.16,>=2.15->tensorflow) (0.7.2)\n",
            "Requirement already satisfied: werkzeug>=1.0.1 in /anaconda/envs/azureml_py38_PT_TF/lib/python3.9/site-packages (from tensorboard<2.16,>=2.15->tensorflow) (3.0.3)\n",
            "Requirement already satisfied: cachetools<6.0,>=2.0.0 in /anaconda/envs/azureml_py38_PT_TF/lib/python3.9/site-packages (from google-auth<3,>=1.6.3->tensorboard<2.16,>=2.15->tensorflow) (5.3.3)\n",
            "Requirement already satisfied: pyasn1-modules>=0.2.1 in /anaconda/envs/azureml_py38_PT_TF/lib/python3.9/site-packages (from google-auth<3,>=1.6.3->tensorboard<2.16,>=2.15->tensorflow) (0.4.0)\n",
            "Requirement already satisfied: rsa<5,>=3.1.4 in /anaconda/envs/azureml_py38_PT_TF/lib/python3.9/site-packages (from google-auth<3,>=1.6.3->tensorboard<2.16,>=2.15->tensorflow) (4.9)\n",
            "Requirement already satisfied: requests-oauthlib>=0.7.0 in /anaconda/envs/azureml_py38_PT_TF/lib/python3.9/site-packages (from google-auth-oauthlib<2,>=0.5->tensorboard<2.16,>=2.15->tensorflow) (2.0.0)\n",
            "Requirement already satisfied: importlib-metadata>=4.4 in /anaconda/envs/azureml_py38_PT_TF/lib/python3.9/site-packages (from markdown>=2.6.8->tensorboard<2.16,>=2.15->tensorflow) (7.1.0)\n",
            "Requirement already satisfied: charset-normalizer<4,>=2 in /anaconda/envs/azureml_py38_PT_TF/lib/python3.9/site-packages (from requests<3,>=2.21.0->tensorboard<2.16,>=2.15->tensorflow) (3.3.2)\n",
            "Requirement already satisfied: idna<4,>=2.5 in /anaconda/envs/azureml_py38_PT_TF/lib/python3.9/site-packages (from requests<3,>=2.21.0->tensorboard<2.16,>=2.15->tensorflow) (3.7)\n",
            "Requirement already satisfied: urllib3<3,>=1.21.1 in /anaconda/envs/azureml_py38_PT_TF/lib/python3.9/site-packages (from requests<3,>=2.21.0->tensorboard<2.16,>=2.15->tensorflow) (2.2.1)\n",
            "Requirement already satisfied: certifi>=2017.4.17 in /anaconda/envs/azureml_py38_PT_TF/lib/python3.9/site-packages (from requests<3,>=2.21.0->tensorboard<2.16,>=2.15->tensorflow) (2024.6.2)\n",
            "Requirement already satisfied: MarkupSafe>=2.1.1 in /anaconda/envs/azureml_py38_PT_TF/lib/python3.9/site-packages (from werkzeug>=1.0.1->tensorboard<2.16,>=2.15->tensorflow) (2.1.5)\n",
            "Requirement already satisfied: zipp>=0.5 in /anaconda/envs/azureml_py38_PT_TF/lib/python3.9/site-packages (from importlib-metadata>=4.4->markdown>=2.6.8->tensorboard<2.16,>=2.15->tensorflow) (3.19.2)\n",
            "Requirement already satisfied: pyasn1<0.7.0,>=0.4.6 in /anaconda/envs/azureml_py38_PT_TF/lib/python3.9/site-packages (from pyasn1-modules>=0.2.1->google-auth<3,>=1.6.3->tensorboard<2.16,>=2.15->tensorflow) (0.6.0)\n",
            "Requirement already satisfied: oauthlib>=3.0.0 in /anaconda/envs/azureml_py38_PT_TF/lib/python3.9/site-packages (from requests-oauthlib>=0.7.0->google-auth-oauthlib<2,>=0.5->tensorboard<2.16,>=2.15->tensorflow) (3.2.2)\n",
            "Note: you may need to restart the kernel to use updated packages.\n",
            "Requirement already satisfied: scikit-learn in /anaconda/envs/azureml_py38_PT_TF/lib/python3.9/site-packages (1.5.1)\n",
            "Requirement already satisfied: numpy>=1.19.5 in /anaconda/envs/azureml_py38_PT_TF/lib/python3.9/site-packages (from scikit-learn) (1.23.5)\n",
            "Requirement already satisfied: scipy>=1.6.0 in /anaconda/envs/azureml_py38_PT_TF/lib/python3.9/site-packages (from scikit-learn) (1.13.1)\n",
            "Requirement already satisfied: joblib>=1.2.0 in /anaconda/envs/azureml_py38_PT_TF/lib/python3.9/site-packages (from scikit-learn) (1.4.2)\n",
            "Requirement already satisfied: threadpoolctl>=3.1.0 in /anaconda/envs/azureml_py38_PT_TF/lib/python3.9/site-packages (from scikit-learn) (3.5.0)\n",
            "Note: you may need to restart the kernel to use updated packages.\n",
            "Requirement already satisfied: scikit-metrics in /anaconda/envs/azureml_py38_PT_TF/lib/python3.9/site-packages (0.1.0)\n",
            "Requirement already satisfied: scikit-learn in /anaconda/envs/azureml_py38_PT_TF/lib/python3.9/site-packages (from scikit-metrics) (1.5.1)\n",
            "Requirement already satisfied: numpy>=1.19.5 in /anaconda/envs/azureml_py38_PT_TF/lib/python3.9/site-packages (from scikit-learn->scikit-metrics) (1.23.5)\n",
            "Requirement already satisfied: scipy>=1.6.0 in /anaconda/envs/azureml_py38_PT_TF/lib/python3.9/site-packages (from scikit-learn->scikit-metrics) (1.13.1)\n",
            "Requirement already satisfied: joblib>=1.2.0 in /anaconda/envs/azureml_py38_PT_TF/lib/python3.9/site-packages (from scikit-learn->scikit-metrics) (1.4.2)\n",
            "Requirement already satisfied: threadpoolctl>=3.1.0 in /anaconda/envs/azureml_py38_PT_TF/lib/python3.9/site-packages (from scikit-learn->scikit-metrics) (3.5.0)\n",
            "Note: you may need to restart the kernel to use updated packages.\n",
            "Requirement already satisfied: tensorflow_datasets in /anaconda/envs/azureml_py38_PT_TF/lib/python3.9/site-packages (4.9.3)\n",
            "Requirement already satisfied: absl-py in /anaconda/envs/azureml_py38_PT_TF/lib/python3.9/site-packages (from tensorflow_datasets) (2.1.0)\n",
            "Requirement already satisfied: array-record in /anaconda/envs/azureml_py38_PT_TF/lib/python3.9/site-packages (from tensorflow_datasets) (0.5.1)\n",
            "Requirement already satisfied: click in /anaconda/envs/azureml_py38_PT_TF/lib/python3.9/site-packages (from tensorflow_datasets) (8.1.7)\n",
            "Requirement already satisfied: dm-tree in /anaconda/envs/azureml_py38_PT_TF/lib/python3.9/site-packages (from tensorflow_datasets) (0.1.8)\n",
            "Requirement already satisfied: etils>=0.9.0 in /anaconda/envs/azureml_py38_PT_TF/lib/python3.9/site-packages (from etils[enp,epath,etree]>=0.9.0->tensorflow_datasets) (1.5.2)\n",
            "Requirement already satisfied: numpy in /anaconda/envs/azureml_py38_PT_TF/lib/python3.9/site-packages (from tensorflow_datasets) (1.23.5)\n",
            "Requirement already satisfied: promise in /anaconda/envs/azureml_py38_PT_TF/lib/python3.9/site-packages (from tensorflow_datasets) (2.3)\n",
            "Requirement already satisfied: protobuf>=3.20 in /anaconda/envs/azureml_py38_PT_TF/lib/python3.9/site-packages (from tensorflow_datasets) (3.20.3)\n",
            "Requirement already satisfied: psutil in /anaconda/envs/azureml_py38_PT_TF/lib/python3.9/site-packages (from tensorflow_datasets) (5.9.8)\n",
            "Requirement already satisfied: requests>=2.19.0 in /anaconda/envs/azureml_py38_PT_TF/lib/python3.9/site-packages (from tensorflow_datasets) (2.32.3)\n",
            "Requirement already satisfied: tensorflow-metadata in /anaconda/envs/azureml_py38_PT_TF/lib/python3.9/site-packages (from tensorflow_datasets) (1.15.0)\n",
            "Requirement already satisfied: termcolor in /anaconda/envs/azureml_py38_PT_TF/lib/python3.9/site-packages (from tensorflow_datasets) (2.4.0)\n",
            "Requirement already satisfied: toml in /anaconda/envs/azureml_py38_PT_TF/lib/python3.9/site-packages (from tensorflow_datasets) (0.10.2)\n",
            "Requirement already satisfied: tqdm in /anaconda/envs/azureml_py38_PT_TF/lib/python3.9/site-packages (from tensorflow_datasets) (4.66.4)\n",
            "Requirement already satisfied: wrapt in /anaconda/envs/azureml_py38_PT_TF/lib/python3.9/site-packages (from tensorflow_datasets) (1.14.1)\n",
            "Requirement already satisfied: fsspec in /anaconda/envs/azureml_py38_PT_TF/lib/python3.9/site-packages (from etils[enp,epath,etree]>=0.9.0->tensorflow_datasets) (2024.6.0)\n",
            "Requirement already satisfied: importlib_resources in /anaconda/envs/azureml_py38_PT_TF/lib/python3.9/site-packages (from etils[enp,epath,etree]>=0.9.0->tensorflow_datasets) (6.4.0)\n",
            "Requirement already satisfied: typing_extensions in /anaconda/envs/azureml_py38_PT_TF/lib/python3.9/site-packages (from etils[enp,epath,etree]>=0.9.0->tensorflow_datasets) (4.12.2)\n",
            "Requirement already satisfied: zipp in /anaconda/envs/azureml_py38_PT_TF/lib/python3.9/site-packages (from etils[enp,epath,etree]>=0.9.0->tensorflow_datasets) (3.19.2)\n",
            "Requirement already satisfied: charset-normalizer<4,>=2 in /anaconda/envs/azureml_py38_PT_TF/lib/python3.9/site-packages (from requests>=2.19.0->tensorflow_datasets) (3.3.2)\n",
            "Requirement already satisfied: idna<4,>=2.5 in /anaconda/envs/azureml_py38_PT_TF/lib/python3.9/site-packages (from requests>=2.19.0->tensorflow_datasets) (3.7)\n",
            "Requirement already satisfied: urllib3<3,>=1.21.1 in /anaconda/envs/azureml_py38_PT_TF/lib/python3.9/site-packages (from requests>=2.19.0->tensorflow_datasets) (2.2.1)\n",
            "Requirement already satisfied: certifi>=2017.4.17 in /anaconda/envs/azureml_py38_PT_TF/lib/python3.9/site-packages (from requests>=2.19.0->tensorflow_datasets) (2024.6.2)\n",
            "Requirement already satisfied: six in /anaconda/envs/azureml_py38_PT_TF/lib/python3.9/site-packages (from promise->tensorflow_datasets) (1.16.0)\n",
            "Note: you may need to restart the kernel to use updated packages.\n"
          ]
        }
      ],
      "source": [
        "%pip install pandas\n",
        "%pip install numpy\n",
        "%pip install tensorflow\n",
        "%pip install scikit-learn\n",
        "%pip install scikit-metrics\n",
        "%pip install tensorflow_datasets"
      ]
    },
    {
      "cell_type": "markdown",
      "metadata": {},
      "source": [
        "<strong>Dependencies import</strong>"
      ]
    },
    {
      "cell_type": "code",
      "execution_count": 2,
      "metadata": {
        "gather": {
          "logged": 1722255768374
        }
      },
      "outputs": [
        {
          "name": "stderr",
          "output_type": "stream",
          "text": [
            "2024-08-15 09:50:10.380013: E external/local_xla/xla/stream_executor/cuda/cuda_dnn.cc:9261] Unable to register cuDNN factory: Attempting to register factory for plugin cuDNN when one has already been registered\n",
            "2024-08-15 09:50:10.380064: E external/local_xla/xla/stream_executor/cuda/cuda_fft.cc:607] Unable to register cuFFT factory: Attempting to register factory for plugin cuFFT when one has already been registered\n",
            "2024-08-15 09:50:10.381322: E external/local_xla/xla/stream_executor/cuda/cuda_blas.cc:1515] Unable to register cuBLAS factory: Attempting to register factory for plugin cuBLAS when one has already been registered\n",
            "2024-08-15 09:50:10.389490: I tensorflow/core/platform/cpu_feature_guard.cc:182] This TensorFlow binary is optimized to use available CPU instructions in performance-critical operations.\n",
            "To enable the following instructions: AVX2 AVX512F FMA, in other operations, rebuild TensorFlow with the appropriate compiler flags.\n",
            "2024-08-15 09:50:11.345320: W tensorflow/compiler/tf2tensorrt/utils/py_utils.cc:38] TF-TRT Warning: Could not find TensorRT\n",
            "/anaconda/envs/azureml_py38_PT_TF/lib/python3.9/site-packages/tqdm/auto.py:21: TqdmWarning: IProgress not found. Please update jupyter and ipywidgets. See https://ipywidgets.readthedocs.io/en/stable/user_install.html\n",
            "  from .autonotebook import tqdm as notebook_tqdm\n"
          ]
        }
      ],
      "source": [
        "import os\n",
        "import pandas as pd\n",
        "import numpy as np\n",
        "import tensorflow as tf\n",
        "import tensorflow_datasets as tfds\n",
        "\n",
        "from sklearn.model_selection import train_test_split\n",
        "from sklearn.metrics import r2_score, mean_squared_error\n",
        "from tensorflow.keras import layers, models # type: ignore\n",
        "\n"
      ]
    },
    {
      "cell_type": "code",
      "execution_count": 3,
      "metadata": {},
      "outputs": [],
      "source": [
        "# Importazione del dataset\n",
        "\n",
        "dataset_url = \"https://raw.githubusercontent.com/timothypesi/Data-Sets-For-Machine-Learning-/main/california_housing_train.csv\"\n",
        "df = pd.read_csv(dataset_url)"
      ]
    },
    {
      "cell_type": "code",
      "execution_count": 4,
      "metadata": {},
      "outputs": [],
      "source": [
        "# Suddivisione del dataset in training set e test set\n",
        "\n",
        "train_df, test_df = train_test_split(df, test_size=0.2, random_state=42, shuffle=True)"
      ]
    },
    {
      "cell_type": "code",
      "execution_count": 5,
      "metadata": {},
      "outputs": [],
      "source": [
        "# Preparazione dei dati per il modello TensorFlow\n",
        "\n",
        "train_labels = train_df.pop('median_house_value')\n",
        "test_labels = test_df.pop('median_house_value')"
      ]
    },
    {
      "cell_type": "code",
      "execution_count": 6,
      "metadata": {},
      "outputs": [
        {
          "name": "stderr",
          "output_type": "stream",
          "text": [
            "2024-08-15 09:50:20.132132: E external/local_xla/xla/stream_executor/cuda/cuda_driver.cc:274] failed call to cuInit: CUDA_ERROR_NO_DEVICE: no CUDA-capable device is detected\n"
          ]
        }
      ],
      "source": [
        "# Normalizzazione dei dati\n",
        "\n",
        "normalizer = tf.keras.layers.Normalization()\n",
        "normalizer.adapt(train_df, steps=200)\n",
        "normalizer.adapt(test_df, steps=200)\n",
        "\n",
        "\n",
        "# def make_input_fn(data_df, label_df, num_epochs=10, shuffle=True, batch_size=32):\n",
        "#   def input_function():  # inner function, this will be returned\n",
        "#     ds = tf.data.Dataset.from_tensor_slices((dict(data_df), label_df))  # create tf.data.Dataset object with data and its label\n",
        "#     if shuffle:\n",
        "#       ds = ds.shuffle(1000)  # randomize order of data\n",
        "#     ds = ds.batch(batch_size).repeat(num_epochs)  # split dataset into batches of 32 and repeat process for number of epochs\n",
        "#     return ds  # return a batch of the dataset\n",
        "#   return input_function  # return a function object for use"
      ]
    },
    {
      "cell_type": "code",
      "execution_count": 7,
      "metadata": {},
      "outputs": [
        {
          "name": "stdout",
          "output_type": "stream",
          "text": [
            "Epoch 1/20\n",
            "425/425 [==============================] - 1s 1ms/step - loss: 7113651712.0000\n",
            "Epoch 2/20\n",
            "425/425 [==============================] - 1s 2ms/step - loss: 4716696064.0000\n",
            "Epoch 3/20\n",
            "425/425 [==============================] - 1s 2ms/step - loss: 4709035520.0000\n",
            "Epoch 4/20\n",
            "425/425 [==============================] - 1s 2ms/step - loss: 4627963392.0000\n",
            "Epoch 5/20\n",
            "425/425 [==============================] - 1s 2ms/step - loss: 4507360768.0000\n",
            "Epoch 6/20\n",
            "425/425 [==============================] - 1s 2ms/step - loss: 4580492800.0000\n",
            "Epoch 7/20\n",
            "425/425 [==============================] - 1s 2ms/step - loss: 4439217664.0000\n",
            "Epoch 8/20\n",
            "425/425 [==============================] - 1s 2ms/step - loss: 4456439808.0000\n",
            "Epoch 9/20\n",
            "425/425 [==============================] - 1s 2ms/step - loss: 4327586816.0000\n",
            "Epoch 10/20\n",
            "425/425 [==============================] - 1s 2ms/step - loss: 4175951360.0000\n",
            "Epoch 11/20\n",
            "425/425 [==============================] - 1s 2ms/step - loss: 3996518912.0000\n",
            "Epoch 12/20\n",
            "425/425 [==============================] - 1s 1ms/step - loss: 3775158784.0000\n",
            "Epoch 13/20\n",
            "425/425 [==============================] - 1s 2ms/step - loss: 3623086080.0000\n",
            "Epoch 14/20\n",
            "425/425 [==============================] - 1s 2ms/step - loss: 3480624640.0000\n",
            "Epoch 15/20\n",
            "425/425 [==============================] - 1s 2ms/step - loss: 3433211136.0000\n",
            "Epoch 16/20\n",
            "425/425 [==============================] - 1s 2ms/step - loss: 3301902592.0000\n",
            "Epoch 17/20\n",
            "425/425 [==============================] - 1s 2ms/step - loss: 3178122752.0000\n",
            "Epoch 18/20\n",
            "425/425 [==============================] - 1s 2ms/step - loss: 3170721792.0000\n",
            "Epoch 19/20\n",
            "425/425 [==============================] - 1s 2ms/step - loss: 3123390464.0000\n",
            "Epoch 20/20\n",
            "425/425 [==============================] - 1s 2ms/step - loss: 3141860352.0000\n"
          ]
        },
        {
          "data": {
            "text/plain": [
              "<keras.src.callbacks.History at 0x7fa4b004ca00>"
            ]
          },
          "execution_count": 7,
          "metadata": {},
          "output_type": "execute_result"
        }
      ],
      "source": [
        "# Costruzione del modello ANN con TensorFlow\n",
        "\n",
        "from sklearn.model_selection import learning_curve\n",
        "\n",
        "\n",
        "model = models.Sequential([\n",
        "    normalizer,\n",
        "    layers.Dense(200, activation='relu'),\n",
        "    layers.Dense(200, activation='relu'),\n",
        "    layers.Dense(1)\n",
        "])\n",
        "\n",
        "model.compile(optimizer=tf.keras.optimizers.Adam(learning_rate=0.1), loss='mse')\n",
        "\n",
        "# Addestramento del modello\n",
        "#model.fit(train_df, train_labels, epochs=200, validation_split=0.2) \n",
        "\n",
        "model.fit(train_df, train_labels, epochs=20) \n",
        "\n",
        "#notes:\n",
        "# loss converges at epoch 199, after that increases again\n",
        "# SGD not working\n"
      ]
    },
    {
      "cell_type": "code",
      "execution_count": 8,
      "metadata": {},
      "outputs": [
        {
          "name": "stdout",
          "output_type": "stream",
          "text": [
            "107/107 [==============================] - 0s 2ms/step - loss: 3136832000.0000\n",
            "3136832000.0\n"
          ]
        }
      ],
      "source": [
        "# Valutazione del modello sul test set\n",
        "\n",
        "loss = model.evaluate(test_df, test_labels)\n",
        "print(loss)"
      ]
    },
    {
      "cell_type": "code",
      "execution_count": 9,
      "metadata": {},
      "outputs": [
        {
          "name": "stdout",
          "output_type": "stream",
          "text": [
            "107/107 [==============================] - 0s 1ms/step\n"
          ]
        }
      ],
      "source": [
        "# Predizione dei valori sul test set\n",
        "\n",
        "test_predictions = model.predict(test_df).flatten()"
      ]
    },
    {
      "cell_type": "code",
      "execution_count": 10,
      "metadata": {},
      "outputs": [],
      "source": [
        "# Aggiunta delle predizioni al test set\n",
        "\n",
        "test_df['predicted_median_house_value'] = test_predictions\n",
        "test_df['median_house_value'] = test_labels\n"
      ]
    },
    {
      "cell_type": "code",
      "execution_count": 11,
      "metadata": {},
      "outputs": [],
      "source": [
        "# Calcolo della differenza per record\n",
        "\n",
        "test_df['value_difference'] = test_df['median_house_value'] - test_df['predicted_median_house_value']"
      ]
    },
    {
      "cell_type": "code",
      "execution_count": 12,
      "metadata": {},
      "outputs": [],
      "source": [
        "# Salvataggio del modello e dei risultati\n",
        "\n",
        "model.save(\"/home/azureuser/cloudfiles/code/Users/g.scorpaniti/deeplearning/ex4_housing_python/artifacts/model/model.keras\")\n",
        "test_df.to_csv(\"/home/azureuser/cloudfiles/code/Users/g.scorpaniti/deeplearning/ex4_housing_python/artifacts/test_set.csv\", index=False)\n"
      ]
    },
    {
      "cell_type": "code",
      "execution_count": 13,
      "metadata": {},
      "outputs": [
        {
          "name": "stdout",
          "output_type": "stream",
          "text": [
            "R2 Score: 0.7723\n",
            "Mean Squared Error: 3136831467.3218\n"
          ]
        }
      ],
      "source": [
        "# Calcolo degli indicatori R2 e MSA\n",
        "\n",
        "r2 = r2_score(test_labels, test_predictions)\n",
        "msa = mean_squared_error(test_labels, test_predictions)\n",
        "\n",
        "print(f\"R2 Score: {r2:.4f}\")\n",
        "print(f\"Mean Squared Error: {msa:.4f}\")"
      ]
    }
  ],
  "metadata": {
    "kernel_info": {
      "name": "python38-azureml-pt-tf"
    },
    "kernelspec": {
      "display_name": "Python 3.8 - Pytorch and Tensorflow",
      "language": "python",
      "name": "python38-azureml-pt-tf"
    },
    "language_info": {
      "codemirror_mode": {
        "name": "ipython",
        "version": 3
      },
      "file_extension": ".py",
      "mimetype": "text/x-python",
      "name": "python",
      "nbconvert_exporter": "python",
      "pygments_lexer": "ipython3",
      "version": "3.9.19"
    },
    "nteract": {
      "version": "nteract-front-end@1.0.0"
    }
  },
  "nbformat": 4,
  "nbformat_minor": 2
}
