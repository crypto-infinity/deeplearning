{
 "cells": [
  {
   "cell_type": "markdown",
   "metadata": {},
   "source": [
    "<strong>Dependencies installation</strong>"
   ]
  },
  {
   "cell_type": "code",
   "execution_count": 1,
   "metadata": {},
   "outputs": [
    {
     "name": "stdout",
     "output_type": "stream",
     "text": [
      "Requirement already satisfied: pandas in /anaconda/envs/azureml_py38_PT_TF/lib/python3.9/site-packages (2.2.2)\n",
      "Requirement already satisfied: numpy>=1.22.4 in /anaconda/envs/azureml_py38_PT_TF/lib/python3.9/site-packages (from pandas) (1.23.5)\n",
      "Requirement already satisfied: python-dateutil>=2.8.2 in /anaconda/envs/azureml_py38_PT_TF/lib/python3.9/site-packages (from pandas) (2.9.0)\n",
      "Requirement already satisfied: pytz>=2020.1 in /anaconda/envs/azureml_py38_PT_TF/lib/python3.9/site-packages (from pandas) (2024.1)\n",
      "Requirement already satisfied: tzdata>=2022.7 in /anaconda/envs/azureml_py38_PT_TF/lib/python3.9/site-packages (from pandas) (2024.1)\n",
      "Requirement already satisfied: six>=1.5 in /anaconda/envs/azureml_py38_PT_TF/lib/python3.9/site-packages (from python-dateutil>=2.8.2->pandas) (1.16.0)\n",
      "Note: you may need to restart the kernel to use updated packages.\n",
      "Requirement already satisfied: numpy in /anaconda/envs/azureml_py38_PT_TF/lib/python3.9/site-packages (1.23.5)\n",
      "Note: you may need to restart the kernel to use updated packages.\n",
      "Requirement already satisfied: tensorflow in /anaconda/envs/azureml_py38_PT_TF/lib/python3.9/site-packages (2.15.0)\n",
      "Requirement already satisfied: absl-py>=1.0.0 in /anaconda/envs/azureml_py38_PT_TF/lib/python3.9/site-packages (from tensorflow) (2.1.0)\n",
      "Requirement already satisfied: astunparse>=1.6.0 in /anaconda/envs/azureml_py38_PT_TF/lib/python3.9/site-packages (from tensorflow) (1.6.3)\n",
      "Requirement already satisfied: flatbuffers>=23.5.26 in /anaconda/envs/azureml_py38_PT_TF/lib/python3.9/site-packages (from tensorflow) (24.3.25)\n",
      "Requirement already satisfied: gast!=0.5.0,!=0.5.1,!=0.5.2,>=0.2.1 in /anaconda/envs/azureml_py38_PT_TF/lib/python3.9/site-packages (from tensorflow) (0.5.4)\n",
      "Requirement already satisfied: google-pasta>=0.1.1 in /anaconda/envs/azureml_py38_PT_TF/lib/python3.9/site-packages (from tensorflow) (0.2.0)\n",
      "Requirement already satisfied: h5py>=2.9.0 in /anaconda/envs/azureml_py38_PT_TF/lib/python3.9/site-packages (from tensorflow) (3.11.0)\n",
      "Requirement already satisfied: libclang>=13.0.0 in /anaconda/envs/azureml_py38_PT_TF/lib/python3.9/site-packages (from tensorflow) (18.1.1)\n",
      "Requirement already satisfied: ml-dtypes~=0.2.0 in /anaconda/envs/azureml_py38_PT_TF/lib/python3.9/site-packages (from tensorflow) (0.2.0)\n",
      "Requirement already satisfied: numpy<2.0.0,>=1.23.5 in /anaconda/envs/azureml_py38_PT_TF/lib/python3.9/site-packages (from tensorflow) (1.23.5)\n",
      "Requirement already satisfied: opt-einsum>=2.3.2 in /anaconda/envs/azureml_py38_PT_TF/lib/python3.9/site-packages (from tensorflow) (3.3.0)\n",
      "Requirement already satisfied: packaging in /anaconda/envs/azureml_py38_PT_TF/lib/python3.9/site-packages (from tensorflow) (24.0)\n",
      "Requirement already satisfied: protobuf!=4.21.0,!=4.21.1,!=4.21.2,!=4.21.3,!=4.21.4,!=4.21.5,<5.0.0dev,>=3.20.3 in /anaconda/envs/azureml_py38_PT_TF/lib/python3.9/site-packages (from tensorflow) (4.25.3)\n",
      "Requirement already satisfied: setuptools in /anaconda/envs/azureml_py38_PT_TF/lib/python3.9/site-packages (from tensorflow) (68.0.0)\n",
      "Requirement already satisfied: six>=1.12.0 in /anaconda/envs/azureml_py38_PT_TF/lib/python3.9/site-packages (from tensorflow) (1.16.0)\n",
      "Requirement already satisfied: termcolor>=1.1.0 in /anaconda/envs/azureml_py38_PT_TF/lib/python3.9/site-packages (from tensorflow) (2.4.0)\n",
      "Requirement already satisfied: typing-extensions>=3.6.6 in /anaconda/envs/azureml_py38_PT_TF/lib/python3.9/site-packages (from tensorflow) (4.12.2)\n",
      "Requirement already satisfied: wrapt<1.15,>=1.11.0 in /anaconda/envs/azureml_py38_PT_TF/lib/python3.9/site-packages (from tensorflow) (1.14.1)\n",
      "Requirement already satisfied: tensorflow-io-gcs-filesystem>=0.23.1 in /anaconda/envs/azureml_py38_PT_TF/lib/python3.9/site-packages (from tensorflow) (0.37.0)\n",
      "Requirement already satisfied: grpcio<2.0,>=1.24.3 in /anaconda/envs/azureml_py38_PT_TF/lib/python3.9/site-packages (from tensorflow) (1.64.1)\n",
      "Requirement already satisfied: tensorboard<2.16,>=2.15 in /anaconda/envs/azureml_py38_PT_TF/lib/python3.9/site-packages (from tensorflow) (2.15.2)\n",
      "Requirement already satisfied: tensorflow-estimator<2.16,>=2.15.0 in /anaconda/envs/azureml_py38_PT_TF/lib/python3.9/site-packages (from tensorflow) (2.15.0)\n",
      "Requirement already satisfied: keras<2.16,>=2.15.0 in /anaconda/envs/azureml_py38_PT_TF/lib/python3.9/site-packages (from tensorflow) (2.15.0)\n",
      "Requirement already satisfied: wheel<1.0,>=0.23.0 in /anaconda/envs/azureml_py38_PT_TF/lib/python3.9/site-packages (from astunparse>=1.6.0->tensorflow) (0.41.2)\n",
      "Requirement already satisfied: google-auth<3,>=1.6.3 in /anaconda/envs/azureml_py38_PT_TF/lib/python3.9/site-packages (from tensorboard<2.16,>=2.15->tensorflow) (2.30.0)\n",
      "Requirement already satisfied: google-auth-oauthlib<2,>=0.5 in /anaconda/envs/azureml_py38_PT_TF/lib/python3.9/site-packages (from tensorboard<2.16,>=2.15->tensorflow) (1.2.0)\n",
      "Requirement already satisfied: markdown>=2.6.8 in /anaconda/envs/azureml_py38_PT_TF/lib/python3.9/site-packages (from tensorboard<2.16,>=2.15->tensorflow) (3.6)\n",
      "Requirement already satisfied: requests<3,>=2.21.0 in /anaconda/envs/azureml_py38_PT_TF/lib/python3.9/site-packages (from tensorboard<2.16,>=2.15->tensorflow) (2.32.3)\n",
      "Requirement already satisfied: tensorboard-data-server<0.8.0,>=0.7.0 in /anaconda/envs/azureml_py38_PT_TF/lib/python3.9/site-packages (from tensorboard<2.16,>=2.15->tensorflow) (0.7.2)\n",
      "Requirement already satisfied: werkzeug>=1.0.1 in /anaconda/envs/azureml_py38_PT_TF/lib/python3.9/site-packages (from tensorboard<2.16,>=2.15->tensorflow) (3.0.3)\n",
      "Requirement already satisfied: cachetools<6.0,>=2.0.0 in /anaconda/envs/azureml_py38_PT_TF/lib/python3.9/site-packages (from google-auth<3,>=1.6.3->tensorboard<2.16,>=2.15->tensorflow) (5.3.3)\n",
      "Requirement already satisfied: pyasn1-modules>=0.2.1 in /anaconda/envs/azureml_py38_PT_TF/lib/python3.9/site-packages (from google-auth<3,>=1.6.3->tensorboard<2.16,>=2.15->tensorflow) (0.4.0)\n",
      "Requirement already satisfied: rsa<5,>=3.1.4 in /anaconda/envs/azureml_py38_PT_TF/lib/python3.9/site-packages (from google-auth<3,>=1.6.3->tensorboard<2.16,>=2.15->tensorflow) (4.9)\n",
      "Requirement already satisfied: requests-oauthlib>=0.7.0 in /anaconda/envs/azureml_py38_PT_TF/lib/python3.9/site-packages (from google-auth-oauthlib<2,>=0.5->tensorboard<2.16,>=2.15->tensorflow) (2.0.0)\n",
      "Requirement already satisfied: importlib-metadata>=4.4 in /anaconda/envs/azureml_py38_PT_TF/lib/python3.9/site-packages (from markdown>=2.6.8->tensorboard<2.16,>=2.15->tensorflow) (7.1.0)\n",
      "Requirement already satisfied: charset-normalizer<4,>=2 in /anaconda/envs/azureml_py38_PT_TF/lib/python3.9/site-packages (from requests<3,>=2.21.0->tensorboard<2.16,>=2.15->tensorflow) (3.3.2)\n",
      "Requirement already satisfied: idna<4,>=2.5 in /anaconda/envs/azureml_py38_PT_TF/lib/python3.9/site-packages (from requests<3,>=2.21.0->tensorboard<2.16,>=2.15->tensorflow) (3.7)\n",
      "Requirement already satisfied: urllib3<3,>=1.21.1 in /anaconda/envs/azureml_py38_PT_TF/lib/python3.9/site-packages (from requests<3,>=2.21.0->tensorboard<2.16,>=2.15->tensorflow) (2.2.1)\n",
      "Requirement already satisfied: certifi>=2017.4.17 in /anaconda/envs/azureml_py38_PT_TF/lib/python3.9/site-packages (from requests<3,>=2.21.0->tensorboard<2.16,>=2.15->tensorflow) (2024.6.2)\n",
      "Requirement already satisfied: MarkupSafe>=2.1.1 in /anaconda/envs/azureml_py38_PT_TF/lib/python3.9/site-packages (from werkzeug>=1.0.1->tensorboard<2.16,>=2.15->tensorflow) (2.1.5)\n",
      "Requirement already satisfied: zipp>=0.5 in /anaconda/envs/azureml_py38_PT_TF/lib/python3.9/site-packages (from importlib-metadata>=4.4->markdown>=2.6.8->tensorboard<2.16,>=2.15->tensorflow) (3.19.2)\n",
      "Requirement already satisfied: pyasn1<0.7.0,>=0.4.6 in /anaconda/envs/azureml_py38_PT_TF/lib/python3.9/site-packages (from pyasn1-modules>=0.2.1->google-auth<3,>=1.6.3->tensorboard<2.16,>=2.15->tensorflow) (0.6.0)\n",
      "Requirement already satisfied: oauthlib>=3.0.0 in /anaconda/envs/azureml_py38_PT_TF/lib/python3.9/site-packages (from requests-oauthlib>=0.7.0->google-auth-oauthlib<2,>=0.5->tensorboard<2.16,>=2.15->tensorflow) (3.2.2)\n",
      "Note: you may need to restart the kernel to use updated packages.\n",
      "Collecting scikit-learn\n",
      "  Downloading scikit_learn-1.5.1-cp39-cp39-manylinux_2_17_x86_64.manylinux2014_x86_64.whl.metadata (12 kB)\n",
      "Requirement already satisfied: numpy>=1.19.5 in /anaconda/envs/azureml_py38_PT_TF/lib/python3.9/site-packages (from scikit-learn) (1.23.5)\n",
      "Requirement already satisfied: scipy>=1.6.0 in /anaconda/envs/azureml_py38_PT_TF/lib/python3.9/site-packages (from scikit-learn) (1.13.1)\n",
      "Collecting joblib>=1.2.0 (from scikit-learn)\n",
      "  Downloading joblib-1.4.2-py3-none-any.whl.metadata (5.4 kB)\n",
      "Collecting threadpoolctl>=3.1.0 (from scikit-learn)\n",
      "  Downloading threadpoolctl-3.5.0-py3-none-any.whl.metadata (13 kB)\n",
      "Downloading scikit_learn-1.5.1-cp39-cp39-manylinux_2_17_x86_64.manylinux2014_x86_64.whl (13.4 MB)\n",
      "\u001b[2K   \u001b[90m━━━━━━━━━━━━━━━━━━━━━━━━━━━━━━━━━━━━━━━━\u001b[0m \u001b[32m13.4/13.4 MB\u001b[0m \u001b[31m79.9 MB/s\u001b[0m eta \u001b[36m0:00:00\u001b[0m:00:01\u001b[0m0:01\u001b[0m\n",
      "\u001b[?25hDownloading joblib-1.4.2-py3-none-any.whl (301 kB)\n",
      "\u001b[2K   \u001b[90m━━━━━━━━━━━━━━━━━━━━━━━━━━━━━━━━━━━━━━━━\u001b[0m \u001b[32m301.8/301.8 kB\u001b[0m \u001b[31m25.8 MB/s\u001b[0m eta \u001b[36m0:00:00\u001b[0m\n",
      "\u001b[?25hDownloading threadpoolctl-3.5.0-py3-none-any.whl (18 kB)\n",
      "Installing collected packages: threadpoolctl, joblib, scikit-learn\n",
      "Successfully installed joblib-1.4.2 scikit-learn-1.5.1 threadpoolctl-3.5.0\n",
      "Note: you may need to restart the kernel to use updated packages.\n"
     ]
    }
   ],
   "source": [
    "%pip install pandas\n",
    "%pip install numpy\n",
    "%pip install tensorflow\n",
    "%pip install scikit-learn\n",
    "%pip install scikit-metrics"
   ]
  },
  {
   "cell_type": "markdown",
   "metadata": {},
   "source": [
    "<strong>Dependencies import</strong>"
   ]
  },
  {
   "cell_type": "code",
   "execution_count": 19,
   "metadata": {},
   "outputs": [],
   "source": [
    "import os\n",
    "import pandas as pd\n",
    "import numpy as np\n",
    "import tensorflow as tf\n",
    "\n",
    "from sklearn.model_selection import train_test_split\n",
    "from sklearn.metrics import r2_score, mean_squared_error\n",
    "from tensorflow.keras import layers, models # type: ignore"
   ]
  },
  {
   "cell_type": "code",
   "execution_count": 3,
   "metadata": {},
   "outputs": [],
   "source": [
    "# Importazione del dataset\n",
    "\n",
    "dataset_url = \"https://raw.githubusercontent.com/timothypesi/Data-Sets-For-Machine-Learning-/main/california_housing_train.csv\"\n",
    "df = pd.read_csv(dataset_url)"
   ]
  },
  {
   "cell_type": "code",
   "execution_count": 4,
   "metadata": {},
   "outputs": [],
   "source": [
    "# Suddivisione del dataset in training set e test set\n",
    "\n",
    "train_df, test_df = train_test_split(df, test_size=0.2, random_state=42)"
   ]
  },
  {
   "cell_type": "code",
   "execution_count": 5,
   "metadata": {},
   "outputs": [],
   "source": [
    "# Preparazione dei dati per il modello TensorFlow\n",
    "\n",
    "train_labels = train_df.pop('median_house_value')\n",
    "test_labels = test_df.pop('median_house_value')"
   ]
  },
  {
   "cell_type": "code",
   "execution_count": 6,
   "metadata": {},
   "outputs": [
    {
     "name": "stderr",
     "output_type": "stream",
     "text": [
      "2024-07-25 11:54:33.128007: E external/local_xla/xla/stream_executor/cuda/cuda_driver.cc:274] failed call to cuInit: CUDA_ERROR_NO_DEVICE: no CUDA-capable device is detected\n"
     ]
    }
   ],
   "source": [
    "# Normalizzazione dei dati\n",
    "\n",
    "normalizer = tf.keras.layers.Normalization(axis=-1)\n",
    "normalizer.adapt(np.array(train_df))"
   ]
  },
  {
   "cell_type": "code",
   "execution_count": 7,
   "metadata": {},
   "outputs": [
    {
     "name": "stdout",
     "output_type": "stream",
     "text": [
      "Epoch 1/100\n",
      "340/340 [==============================] - 2s 2ms/step - loss: 55294959616.0000 - val_loss: 50379309056.0000\n",
      "Epoch 2/100\n",
      "340/340 [==============================] - 1s 2ms/step - loss: 41271205888.0000 - val_loss: 28400797696.0000\n",
      "Epoch 3/100\n",
      "340/340 [==============================] - 1s 2ms/step - loss: 19443171328.0000 - val_loss: 13201476608.0000\n",
      "Epoch 4/100\n",
      "340/340 [==============================] - 1s 2ms/step - loss: 11647925248.0000 - val_loss: 10567805952.0000\n",
      "Epoch 5/100\n",
      "340/340 [==============================] - 1s 2ms/step - loss: 9869772800.0000 - val_loss: 9330817024.0000\n",
      "Epoch 6/100\n",
      "340/340 [==============================] - 1s 2ms/step - loss: 8744754176.0000 - val_loss: 8400651264.0000\n",
      "Epoch 7/100\n",
      "340/340 [==============================] - 1s 2ms/step - loss: 7862090752.0000 - val_loss: 7634134528.0000\n",
      "Epoch 8/100\n",
      "340/340 [==============================] - 1s 2ms/step - loss: 7128384512.0000 - val_loss: 6990753792.0000\n",
      "Epoch 9/100\n",
      "340/340 [==============================] - 1s 2ms/step - loss: 6519296000.0000 - val_loss: 6447608832.0000\n",
      "Epoch 10/100\n",
      "340/340 [==============================] - 1s 2ms/step - loss: 6010437120.0000 - val_loss: 6015230976.0000\n",
      "Epoch 11/100\n",
      "340/340 [==============================] - 1s 2ms/step - loss: 5617805312.0000 - val_loss: 5686125056.0000\n",
      "Epoch 12/100\n",
      "340/340 [==============================] - 1s 2ms/step - loss: 5322262528.0000 - val_loss: 5450701824.0000\n",
      "Epoch 13/100\n",
      "340/340 [==============================] - 1s 2ms/step - loss: 5102701568.0000 - val_loss: 5259090944.0000\n",
      "Epoch 14/100\n",
      "340/340 [==============================] - 1s 2ms/step - loss: 4940703232.0000 - val_loss: 5134392320.0000\n",
      "Epoch 15/100\n",
      "340/340 [==============================] - 1s 2ms/step - loss: 4818934272.0000 - val_loss: 5042832384.0000\n",
      "Epoch 16/100\n",
      "340/340 [==============================] - 1s 2ms/step - loss: 4728044032.0000 - val_loss: 4975824384.0000\n",
      "Epoch 17/100\n",
      "340/340 [==============================] - 1s 2ms/step - loss: 4662180352.0000 - val_loss: 4932962304.0000\n",
      "Epoch 18/100\n",
      "340/340 [==============================] - 1s 2ms/step - loss: 4610544640.0000 - val_loss: 4878501376.0000\n",
      "Epoch 19/100\n",
      "340/340 [==============================] - 1s 2ms/step - loss: 4572859392.0000 - val_loss: 4841415680.0000\n",
      "Epoch 20/100\n",
      "340/340 [==============================] - 1s 2ms/step - loss: 4538979328.0000 - val_loss: 4823490048.0000\n",
      "Epoch 21/100\n",
      "340/340 [==============================] - 1s 2ms/step - loss: 4510727168.0000 - val_loss: 4798198784.0000\n",
      "Epoch 22/100\n",
      "340/340 [==============================] - 1s 2ms/step - loss: 4489037312.0000 - val_loss: 4786877440.0000\n",
      "Epoch 23/100\n",
      "340/340 [==============================] - 1s 2ms/step - loss: 4468404736.0000 - val_loss: 4776799232.0000\n",
      "Epoch 24/100\n",
      "340/340 [==============================] - 1s 2ms/step - loss: 4451915776.0000 - val_loss: 4764648448.0000\n",
      "Epoch 25/100\n",
      "340/340 [==============================] - 1s 2ms/step - loss: 4434393600.0000 - val_loss: 4750810112.0000\n",
      "Epoch 26/100\n",
      "340/340 [==============================] - 1s 2ms/step - loss: 4421092864.0000 - val_loss: 4748879872.0000\n",
      "Epoch 27/100\n",
      "340/340 [==============================] - 1s 2ms/step - loss: 4410678272.0000 - val_loss: 4729181184.0000\n",
      "Epoch 28/100\n",
      "340/340 [==============================] - 1s 2ms/step - loss: 4394505728.0000 - val_loss: 4739768832.0000\n",
      "Epoch 29/100\n",
      "340/340 [==============================] - 1s 2ms/step - loss: 4388134400.0000 - val_loss: 4711506432.0000\n",
      "Epoch 30/100\n",
      "340/340 [==============================] - 1s 2ms/step - loss: 4374173696.0000 - val_loss: 4705363968.0000\n",
      "Epoch 31/100\n",
      "340/340 [==============================] - 1s 2ms/step - loss: 4366161920.0000 - val_loss: 4702164480.0000\n",
      "Epoch 32/100\n",
      "340/340 [==============================] - 1s 2ms/step - loss: 4355655680.0000 - val_loss: 4706390528.0000\n",
      "Epoch 33/100\n",
      "340/340 [==============================] - 1s 2ms/step - loss: 4350620672.0000 - val_loss: 4694671872.0000\n",
      "Epoch 34/100\n",
      "340/340 [==============================] - 1s 2ms/step - loss: 4341700096.0000 - val_loss: 4685303808.0000\n",
      "Epoch 35/100\n",
      "340/340 [==============================] - 1s 2ms/step - loss: 4334714368.0000 - val_loss: 4690355200.0000\n",
      "Epoch 36/100\n",
      "340/340 [==============================] - 1s 2ms/step - loss: 4327768576.0000 - val_loss: 4686567936.0000\n",
      "Epoch 37/100\n",
      "340/340 [==============================] - 1s 2ms/step - loss: 4322079232.0000 - val_loss: 4674645504.0000\n",
      "Epoch 38/100\n",
      "340/340 [==============================] - 1s 2ms/step - loss: 4313938944.0000 - val_loss: 4672572928.0000\n",
      "Epoch 39/100\n",
      "340/340 [==============================] - 1s 2ms/step - loss: 4308323328.0000 - val_loss: 4666864640.0000\n",
      "Epoch 40/100\n",
      "340/340 [==============================] - 1s 2ms/step - loss: 4302508032.0000 - val_loss: 4673631744.0000\n",
      "Epoch 41/100\n",
      "340/340 [==============================] - 1s 2ms/step - loss: 4296499200.0000 - val_loss: 4663449088.0000\n",
      "Epoch 42/100\n",
      "340/340 [==============================] - 1s 2ms/step - loss: 4293994752.0000 - val_loss: 4656876032.0000\n",
      "Epoch 43/100\n",
      "340/340 [==============================] - 1s 2ms/step - loss: 4285878528.0000 - val_loss: 4666437120.0000\n",
      "Epoch 44/100\n",
      "340/340 [==============================] - 1s 2ms/step - loss: 4281536000.0000 - val_loss: 4653461504.0000\n",
      "Epoch 45/100\n",
      "340/340 [==============================] - 1s 2ms/step - loss: 4279036672.0000 - val_loss: 4656992256.0000\n",
      "Epoch 46/100\n",
      "340/340 [==============================] - 1s 2ms/step - loss: 4272604416.0000 - val_loss: 4646021632.0000\n",
      "Epoch 47/100\n",
      "340/340 [==============================] - 1s 2ms/step - loss: 4269745664.0000 - val_loss: 4655833600.0000\n",
      "Epoch 48/100\n",
      "340/340 [==============================] - 1s 2ms/step - loss: 4264038912.0000 - val_loss: 4647824896.0000\n",
      "Epoch 49/100\n",
      "340/340 [==============================] - 1s 2ms/step - loss: 4262117120.0000 - val_loss: 4650330624.0000\n",
      "Epoch 50/100\n",
      "340/340 [==============================] - 1s 2ms/step - loss: 4257704960.0000 - val_loss: 4666298880.0000\n",
      "Epoch 51/100\n",
      "340/340 [==============================] - 1s 2ms/step - loss: 4257877504.0000 - val_loss: 4635899904.0000\n",
      "Epoch 52/100\n",
      "340/340 [==============================] - 1s 2ms/step - loss: 4247134976.0000 - val_loss: 4651317248.0000\n",
      "Epoch 53/100\n",
      "340/340 [==============================] - 1s 2ms/step - loss: 4245750272.0000 - val_loss: 4640717312.0000\n",
      "Epoch 54/100\n",
      "340/340 [==============================] - 1s 2ms/step - loss: 4239463424.0000 - val_loss: 4634382848.0000\n",
      "Epoch 55/100\n",
      "340/340 [==============================] - 1s 2ms/step - loss: 4239675392.0000 - val_loss: 4625846784.0000\n",
      "Epoch 56/100\n",
      "340/340 [==============================] - 1s 2ms/step - loss: 4234362624.0000 - val_loss: 4624909824.0000\n",
      "Epoch 57/100\n",
      "340/340 [==============================] - 1s 2ms/step - loss: 4232589056.0000 - val_loss: 4628273152.0000\n",
      "Epoch 58/100\n",
      "340/340 [==============================] - 1s 2ms/step - loss: 4226920192.0000 - val_loss: 4617110528.0000\n",
      "Epoch 59/100\n",
      "340/340 [==============================] - 1s 2ms/step - loss: 4222544640.0000 - val_loss: 4621745664.0000\n",
      "Epoch 60/100\n",
      "340/340 [==============================] - 1s 2ms/step - loss: 4220138240.0000 - val_loss: 4614646272.0000\n",
      "Epoch 61/100\n",
      "340/340 [==============================] - 1s 2ms/step - loss: 4216212736.0000 - val_loss: 4625336832.0000\n",
      "Epoch 62/100\n",
      "340/340 [==============================] - 1s 2ms/step - loss: 4215205376.0000 - val_loss: 4613635072.0000\n",
      "Epoch 63/100\n",
      "340/340 [==============================] - 1s 2ms/step - loss: 4211041024.0000 - val_loss: 4610975232.0000\n",
      "Epoch 64/100\n",
      "340/340 [==============================] - 1s 2ms/step - loss: 4210796800.0000 - val_loss: 4609093632.0000\n",
      "Epoch 65/100\n",
      "340/340 [==============================] - 1s 2ms/step - loss: 4205529600.0000 - val_loss: 4615125504.0000\n",
      "Epoch 66/100\n",
      "340/340 [==============================] - 1s 2ms/step - loss: 4203580160.0000 - val_loss: 4603572736.0000\n",
      "Epoch 67/100\n",
      "340/340 [==============================] - 1s 2ms/step - loss: 4200866560.0000 - val_loss: 4600342016.0000\n",
      "Epoch 68/100\n",
      "340/340 [==============================] - 1s 2ms/step - loss: 4196926208.0000 - val_loss: 4603762688.0000\n",
      "Epoch 69/100\n",
      "340/340 [==============================] - 1s 2ms/step - loss: 4196890368.0000 - val_loss: 4595723776.0000\n",
      "Epoch 70/100\n",
      "340/340 [==============================] - 1s 2ms/step - loss: 4190695680.0000 - val_loss: 4602336768.0000\n",
      "Epoch 71/100\n",
      "340/340 [==============================] - 1s 2ms/step - loss: 4186080512.0000 - val_loss: 4591768064.0000\n",
      "Epoch 72/100\n",
      "340/340 [==============================] - 1s 2ms/step - loss: 4189563392.0000 - val_loss: 4600034816.0000\n",
      "Epoch 73/100\n",
      "340/340 [==============================] - 1s 2ms/step - loss: 4183688704.0000 - val_loss: 4590351360.0000\n",
      "Epoch 74/100\n",
      "340/340 [==============================] - 1s 2ms/step - loss: 4182830592.0000 - val_loss: 4600888320.0000\n",
      "Epoch 75/100\n",
      "340/340 [==============================] - 1s 2ms/step - loss: 4176231168.0000 - val_loss: 4593395200.0000\n",
      "Epoch 76/100\n",
      "340/340 [==============================] - 1s 2ms/step - loss: 4175538432.0000 - val_loss: 4596809728.0000\n",
      "Epoch 77/100\n",
      "340/340 [==============================] - 1s 2ms/step - loss: 4173244672.0000 - val_loss: 4587981824.0000\n",
      "Epoch 78/100\n",
      "340/340 [==============================] - 1s 2ms/step - loss: 4171271936.0000 - val_loss: 4576048640.0000\n",
      "Epoch 79/100\n",
      "340/340 [==============================] - 1s 2ms/step - loss: 4167419648.0000 - val_loss: 4576392192.0000\n",
      "Epoch 80/100\n",
      "340/340 [==============================] - 1s 2ms/step - loss: 4165711104.0000 - val_loss: 4581101056.0000\n",
      "Epoch 81/100\n",
      "340/340 [==============================] - 1s 2ms/step - loss: 4162578432.0000 - val_loss: 4572394496.0000\n",
      "Epoch 82/100\n",
      "340/340 [==============================] - 1s 2ms/step - loss: 4158197248.0000 - val_loss: 4595046912.0000\n",
      "Epoch 83/100\n",
      "340/340 [==============================] - 1s 2ms/step - loss: 4158718464.0000 - val_loss: 4574738432.0000\n",
      "Epoch 84/100\n",
      "340/340 [==============================] - 1s 2ms/step - loss: 4155429632.0000 - val_loss: 4574458880.0000\n",
      "Epoch 85/100\n",
      "340/340 [==============================] - 1s 2ms/step - loss: 4151357952.0000 - val_loss: 4562017792.0000\n",
      "Epoch 86/100\n",
      "340/340 [==============================] - 1s 2ms/step - loss: 4151762176.0000 - val_loss: 4564388864.0000\n",
      "Epoch 87/100\n",
      "340/340 [==============================] - 1s 2ms/step - loss: 4147347968.0000 - val_loss: 4569244160.0000\n",
      "Epoch 88/100\n",
      "340/340 [==============================] - 1s 2ms/step - loss: 4145061120.0000 - val_loss: 4566545920.0000\n",
      "Epoch 89/100\n",
      "340/340 [==============================] - 1s 2ms/step - loss: 4146577152.0000 - val_loss: 4562142208.0000\n",
      "Epoch 90/100\n",
      "340/340 [==============================] - 1s 2ms/step - loss: 4141732608.0000 - val_loss: 4573199360.0000\n",
      "Epoch 91/100\n",
      "340/340 [==============================] - 1s 2ms/step - loss: 4144813056.0000 - val_loss: 4564238848.0000\n",
      "Epoch 92/100\n",
      "340/340 [==============================] - 1s 2ms/step - loss: 4137257984.0000 - val_loss: 4558539264.0000\n",
      "Epoch 93/100\n",
      "340/340 [==============================] - 1s 2ms/step - loss: 4134549760.0000 - val_loss: 4558530048.0000\n",
      "Epoch 94/100\n",
      "340/340 [==============================] - 1s 2ms/step - loss: 4134030080.0000 - val_loss: 4547275776.0000\n",
      "Epoch 95/100\n",
      "340/340 [==============================] - 1s 2ms/step - loss: 4132014848.0000 - val_loss: 4555497984.0000\n",
      "Epoch 96/100\n",
      "340/340 [==============================] - 1s 2ms/step - loss: 4129174272.0000 - val_loss: 4564199936.0000\n",
      "Epoch 97/100\n",
      "340/340 [==============================] - 1s 2ms/step - loss: 4129587200.0000 - val_loss: 4550651904.0000\n",
      "Epoch 98/100\n",
      "340/340 [==============================] - 1s 2ms/step - loss: 4127826176.0000 - val_loss: 4554012160.0000\n",
      "Epoch 99/100\n",
      "340/340 [==============================] - 1s 2ms/step - loss: 4124668160.0000 - val_loss: 4542371840.0000\n",
      "Epoch 100/100\n",
      "340/340 [==============================] - 1s 2ms/step - loss: 4119541760.0000 - val_loss: 4538531328.0000\n"
     ]
    },
    {
     "data": {
      "text/plain": [
       "<keras.src.callbacks.History at 0x7ff5e43e4b80>"
      ]
     },
     "execution_count": 7,
     "metadata": {},
     "output_type": "execute_result"
    }
   ],
   "source": [
    "# Costruzione del modello ANN con TensorFlow\n",
    "\n",
    "model = models.Sequential([\n",
    "    normalizer,\n",
    "    layers.Dense(200, activation='relu'),\n",
    "    layers.Dense(200, activation='relu'),\n",
    "    layers.Dense(1)\n",
    "])\n",
    "\n",
    "model.compile(optimizer='adam', loss='mean_squared_error')\n",
    "\n",
    "# Addestramento del modello\n",
    "model.fit(train_df, train_labels, epochs=100, validation_split=0.2)"
   ]
  },
  {
   "cell_type": "code",
   "execution_count": 8,
   "metadata": {},
   "outputs": [
    {
     "name": "stdout",
     "output_type": "stream",
     "text": [
      "107/107 [==============================] - 0s 1ms/step - loss: 3973798656.0000\n"
     ]
    }
   ],
   "source": [
    "# Valutazione del modello sul test set\n",
    "\n",
    "loss = model.evaluate(test_df, test_labels)"
   ]
  },
  {
   "cell_type": "code",
   "execution_count": 9,
   "metadata": {},
   "outputs": [
    {
     "name": "stdout",
     "output_type": "stream",
     "text": [
      "107/107 [==============================] - 0s 897us/step\n"
     ]
    }
   ],
   "source": [
    "# Predizione dei valori sul test set\n",
    "\n",
    "test_predictions = model.predict(test_df).flatten()"
   ]
  },
  {
   "cell_type": "code",
   "execution_count": 10,
   "metadata": {},
   "outputs": [],
   "source": [
    "# Aggiunta delle predizioni al test set\n",
    "\n",
    "test_df['predicted_median_house_value'] = test_predictions"
   ]
  },
  {
   "cell_type": "code",
   "execution_count": 11,
   "metadata": {},
   "outputs": [],
   "source": [
    "# Salvataggio del modello e dei risultati\n",
    "\n",
    "model.save(\"Users/g.scorpaniti/notebook/ex4_housing_python/artifacts/model/model.keras\")\n",
    "test_df.to_csv(\"Users/g.scorpaniti/notebook/ex4_housing_python/artifacts/test_set.csv\", index=False)"
   ]
  },
  {
   "cell_type": "code",
   "execution_count": 20,
   "metadata": {},
   "outputs": [
    {
     "name": "stdout",
     "output_type": "stream",
     "text": [
      "R2 Score: 0.7116\n",
      "Mean Squared Error: 3973799878.5596\n"
     ]
    }
   ],
   "source": [
    "# Calcolo degli indicatori R2 e MSA\n",
    "\n",
    "r2 = r2_score(test_labels, test_predictions)\n",
    "msa = mean_squared_error(test_labels, test_predictions)\n",
    "\n",
    "print(f\"R2 Score: {r2:.4f}\")\n",
    "print(f\"Mean Squared Error: {msa:.4f}\")"
   ]
  }
 ],
 "metadata": {
  "kernelspec": {
   "display_name": "Python 3.8 - Pytorch and Tensorflow",
   "language": "python",
   "name": "python38-azureml-pt-tf"
  },
  "language_info": {
   "codemirror_mode": {
    "name": "ipython",
    "version": 3
   },
   "file_extension": ".py",
   "mimetype": "text/x-python",
   "name": "python",
   "nbconvert_exporter": "python",
   "pygments_lexer": "ipython3",
   "version": "3.9.19"
  }
 },
 "nbformat": 4,
 "nbformat_minor": 2
}
